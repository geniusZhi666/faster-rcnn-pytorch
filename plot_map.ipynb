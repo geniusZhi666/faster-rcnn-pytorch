{
 "cells": [
  {
   "cell_type": "code",
   "execution_count": null,
   "metadata": {},
   "outputs": [],
   "source": [
    "#导入相关库\n",
    "import matplotlib.pyplot as plt\n",
    "import numpy as np\n",
    "#设置绘图风格\n",
    "plt.style.use('ggplot')\n",
    "\n",
    "\n",
    "\n",
    "#文件路径\n",
    "path=\"logs\\loss_2023_05_30_13_08_37\\epoch_map.txt\"\n",
    "\n",
    "#读取文件\n",
    "with open(path, 'r') as f:\n",
    "    lines = f.readlines()\n",
    "\n",
    "#获取epoch和map\n",
    "epoches = []\n",
    "maps = []\n",
    "epoch=0\n",
    "for line in lines:\n",
    "    map = line.strip()\n",
    "    epoches.append(int(epoch))\n",
    "    maps.append(float(map))\n",
    "    epoch+=1\n",
    "\n",
    "        \n",
    "plt.figure()\n",
    "plt.plot(epoches, maps, 'red', linewidth = 2, label='train map')\n",
    "\n",
    "plt.grid(True)\n",
    "plt.xlabel('Epoch')\n",
    "plt.ylabel('Map 0.5')\n",
    "plt.title('A Map Curve')\n",
    "#图例字体设置为黑色\n",
    "leg = plt.legend(loc='upper left', shadow=True, fontsize='x-large')\n",
    "leg.get_frame().set_facecolor('#FFFFFF')\n",
    "\n",
    "\n",
    "plt.savefig(\"logs\\loss_2023_05_30_13_08_37\\epoch_map_new.png\")\n",
    "\n",
    "\n",
    "print(\"Get map done.\")"
   ]
  }
 ],
 "metadata": {
  "language_info": {
   "name": "python"
  },
  "orig_nbformat": 4
 },
 "nbformat": 4,
 "nbformat_minor": 2
}
